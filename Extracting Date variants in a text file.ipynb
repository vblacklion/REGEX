{
 "cells": [
  {
   "cell_type": "markdown",
   "metadata": {},
   "source": [
    "# Extracting Date variants in a text file\n",
    "\n",
    "In this notebook, you'll be working with messy medical data and using regex to extract relevant infromation from the data. \n",
    "\n",
    "Each line of the `dates.txt` file corresponds to a medical note. Each note has a date that needs to be extracted, but each date is encoded in one of many formats.\n",
    "\n",
    "The goal of this notebook is to correctly identify all of the different date variants encoded in this dataset and to properly normalize and sort the dates. \n",
    "\n",
    "Here is a list of some of the variants you might encounter in this dataset:\n",
    "* 04/20/2009; 04/20/09; 4/20/09; 4/3/09\n",
    "* Mar-20-2009; Mar 20, 2009; March 20, 2009;  Mar. 20, 2009; Mar 20 2009;\n",
    "* 20 Mar 2009; 20 March 2009; 20 Mar. 2009; 20 March, 2009\n",
    "* Mar 20th, 2009; Mar 21st, 2009; Mar 22nd, 2009\n",
    "* Feb 2009; Sep 2009; Oct 2010\n",
    "* 6/2008; 12/2009\n",
    "* 2009; 2010\n",
    "\n",
    "Once you have extracted these date patterns from the text, the next step is to sort them in ascending chronological order accoring to the following rules:\n",
    "* Assume all dates in xx/xx/xx format are mm/dd/yy\n",
    "* Assume all dates where year is encoded in only two digits are years from the 1900's (e.g. 1/5/89 is January 5th, 1989)\n",
    "* If the day is missing (e.g. 9/2009), assume it is the first day of the month (e.g. September 1, 2009).\n",
    "* If the month is missing (e.g. 2010), assume it is the first of January of that year (e.g. January 1, 2010).\n",
    "* Watch out for potential typos as this is a raw, real-life derived dataset.\n",
    "\n",
    "With these rules in mind, let's find the correct date in each note and return a pandas Series in chronological order of the original Series' indices.\n",
    "\n",
    "For example if the original series was this:\n",
    "\n",
    "    0    1999\n",
    "    1    2010\n",
    "    2    1978\n",
    "    3    2015\n",
    "    4    1985\n",
    "\n",
    "Your function should return this:\n",
    "\n",
    "    0    2\n",
    "    1    4\n",
    "    2    0\n",
    "    3    1\n",
    "    4    3"
   ]
  },
  {
   "cell_type": "code",
   "execution_count": 52,
   "metadata": {},
   "outputs": [
    {
     "data": {
      "text/plain": [
       "0    03/25/93 Total time of visit (in minutes):\\n                    \n",
       "1    6/18/85 Primary Care Doctor:\\n                                  \n",
       "2    sshe plans to move as of 7/8/71 In-Home Services: None\\n        \n",
       "3    7 on 9/27/75 Audit C Score Current:\\n                           \n",
       "4    2/6/96 sleep studyPain Treatment Pain Level (Numeric Scale): 7\\n\n",
       "dtype: object"
      ]
     },
     "execution_count": 52,
     "metadata": {},
     "output_type": "execute_result"
    }
   ],
   "source": [
    "import pandas as pd\n",
    "import re\n",
    "pd.set_option('display.max_columns', None)  # or 1000\n",
    "pd.set_option('display.max_rows', None)  # or 1000\n",
    "pd.set_option('display.max_colwidth', -1)  \n",
    "doc = []\n",
    "with open('dates.txt') as file:\n",
    "    for line in file:\n",
    "        doc.append(line)\n",
    "\n",
    "df = pd.Series(doc)\n",
    "\n",
    "df.head()"
   ]
  },
  {
   "cell_type": "code",
   "execution_count": 53,
   "metadata": {
    "collapsed": true
   },
   "outputs": [],
   "source": [
    "df1 = df[0:228]\n",
    "df2 = df[228:343]\n",
    "df3 = df[343:455]\n",
    "df4 = df[455:]"
   ]
  },
  {
   "cell_type": "code",
   "execution_count": 54,
   "metadata": {
    "collapsed": true
   },
   "outputs": [],
   "source": [
    "pat1 = r\"\"\"(\\d{1,2}\\b|Jan|Feb|Mar|Apr|May|Jun|Jul|Aug|Sep|Oct|Nov|Dec|January|February|March|April|May|June|July|August|\n",
    "September|October|November|December)[\\/\\-\\s\\.]*(\\b\\d{1,2}\\b|Jan|Feb|Mar|Apr|May|Jun|Jul|Aug|Sep|Oct|Nov|Dec|January|February|\n",
    "March|April|May|June|July|August|September|October|November|December)[\\/\\-\\s\\,\\.]*(\\b\\d{2,4}\\b)\"\"\""
   ]
  },
  {
   "cell_type": "code",
   "execution_count": 55,
   "metadata": {
    "collapsed": true
   },
   "outputs": [],
   "source": [
    "pat2 = r\"\"\"(\\d{1,2}\\b)[\\/\\-\\s\\.]+(Jan[uary]*|Feb[ruary]*|Mar[ch]*|Apr[il]*|May|Jun[e]?|Jul[y]?|Aug[ust]*|Sep[tember]*|\n",
    "Oct[ober]*|Nov[ember]*|Dec[ember]*)[\\/\\-\\s\\,\\.]+(\\b\\d{2,4}\\b)\"\"\""
   ]
  },
  {
   "cell_type": "code",
   "execution_count": 56,
   "metadata": {
    "collapsed": true
   },
   "outputs": [],
   "source": [
    "pat3 = r\"\"\"(Jan[uary]*|Feb[ruary]*|Mar[ch]*|Apr[il]*|May|Jun[e]?|Jul[y]?|Aug[ust]*|Sep[tember]*|Oct[ober]*|Nov[ember]*|\n",
    "Dec[ember]*)[\\/\\-\\s\\,\\.]+(\\d{2})?[\\/\\-\\s\\,\\.]+(\\d{2,4})\"\"\""
   ]
  },
  {
   "cell_type": "code",
   "execution_count": 57,
   "metadata": {
    "collapsed": true
   },
   "outputs": [],
   "source": [
    "def part1(df1):\n",
    "    final_df = pd.DataFrame()\n",
    "    pat1 = r\"\"\"(\\d{1,2}\\b|Jan|Feb|Mar|Apr|May|Jun|Jul|Aug|Sep|Oct|Nov|Dec|January|February|March|April|May|June|July|August|\n",
    "    September|October|November|December)[\\/\\-\\s\\.]*(\\b\\d{1,2}\\b|Jan|Feb|Mar|Apr|May|Jun|Jul|Aug|Sep|Oct|Nov|Dec|January|\n",
    "    February|March|April|May|June|July|August|September|October|November|December)[\\/\\-\\s\\,\\.]*(\\b\\d{2,4}\\b)\"\"\"\n",
    "    pat2 = r\"\"\"(\\d{1,2}\\b)[\\/\\-\\s\\.]+(Jan[uary]*|Feb[ruary]*|Mar[ch]*|Apr[il]*|May|Jun[e]?|Jul[y]?|Aug[ust]*|Sep[tember]*|\n",
    "    Oct[ober]*|Nov[ember]*|Dec[ember]*)[\\/\\-\\s\\,\\.]+(\\b\\d{2,4}\\b)\"\"\"\n",
    "    pat3 = r\"\"\"(Jan[uary]*|Feb[ruary]*|Mar[ch]*|Apr[il]*|May|Jun[e]?|Jul[y]?|Aug[ust]*|Sep[tember]*|Oct[ober]*|Nov[ember]*|\n",
    "    Dec[ember]*)[\\/\\-\\s\\,\\.]+(\\d{2})?[\\/\\-\\s\\,\\.]+(\\d{2,4})\"\"\"\n",
    "    month_map = {\"Jan\": \"01\",\"Feb\": \"02\",\"Mar\": \"03\",\"Apr\": \"04\",\"May\": \"05\",\"Jun\": \"06\",\"Jul\": \"07\",\"Aug\": \"08\",\"Sep\": \"09\",\n",
    "                 \"Oct\": \"10\",\"Nov\": \"11\",\"Dec\": \"12\"}\n",
    "    for idx, line in df1.iteritems():\n",
    "        match = re.search(pat1, line.strip())\n",
    "        if match is not None:\n",
    "            date, month, day, year = match[0], match[1], match[2], match[3]\n",
    "            if day.istitle():\n",
    "                month, day = day, month\n",
    "            if len(year) == 2:\n",
    "                year = \"19\" + year\n",
    "            if len(month) == 1:\n",
    "                month = \"0\"+month\n",
    "            if len(day) == 1:\n",
    "                day = \"0\" + day\n",
    "            if month.istitle():\n",
    "                m = month[:3]\n",
    "                if m in month_map:\n",
    "                    month = month_map[m]\n",
    "                    \n",
    "\n",
    "            lst = [idx, date, month, day, year]\n",
    "            temp = pd.DataFrame([lst], columns =[\"Index\", \"Date\", \"Month\", \"Day\", \"Year\"])\n",
    "            final_df = final_df.append(temp, ignore_index=True)\n",
    "\n",
    "        else:\n",
    "            match = re.search(pat2, line.strip())\n",
    "\n",
    "        if match is not None:\n",
    "            date, month, day, year = match[0], match[1], match[2], match[3]\n",
    "            if day.istitle():\n",
    "                month, day = day, month\n",
    "            if len(year) == 2:\n",
    "                year = \"19\" + year\n",
    "            if len(month) == 1:\n",
    "                month = \"0\"+month\n",
    "            if len(day) == 1:\n",
    "                day = \"0\" + day \n",
    "            if month.istitle():\n",
    "                m = month[:3]\n",
    "                if m in month_map:\n",
    "                    month = month_map[m]\n",
    "                \n",
    "            lst = [idx, date, month, day, year]\n",
    "            temp = pd.DataFrame([lst], columns =[\"Index\", \"Date\", \"Month\", \"Day\", \"Year\"])\n",
    "            final_df = final_df.append(temp, ignore_index=True)\n",
    "\n",
    "        else:\n",
    "            match = re.search(pat3, line.strip())\n",
    "\n",
    "        if match is not None:\n",
    "            date, month, day, year = match[0], match[1], match[2], match[3]\n",
    "            if day is None:\n",
    "                day = \"01\"\n",
    "\n",
    "            if day.istitle():\n",
    "                month, day = day, month\n",
    "            if len(year) == 2:\n",
    "                year = \"19\" + year\n",
    "            if len(month) == 1:\n",
    "                month = \"0\"+month\n",
    "            if len(day) == 1:\n",
    "                day = \"0\" + day \n",
    "            if month.istitle():\n",
    "                m = month[:3]\n",
    "                if m in month_map:\n",
    "                    month = month_map[m]\n",
    "                \n",
    "            lst = [idx, date, month, day, year]\n",
    "            temp = pd.DataFrame([lst], columns =[\"Index\", \"Date\", \"Month\", \"Day\", \"Year\"])\n",
    "            final_df = final_df.append(temp, ignore_index=True)   \n",
    "\n",
    "\n",
    "        else:\n",
    "            #print(line.strip())\n",
    "            pass\n",
    "    final_df = final_df.drop_duplicates().reset_index().drop([\"index\"], axis=1)\n",
    "    return final_df"
   ]
  },
  {
   "cell_type": "code",
   "execution_count": 58,
   "metadata": {
    "collapsed": true
   },
   "outputs": [],
   "source": [
    "pat4 = r\"\"\"(Jan[uary]*|Feb[ruary]*|Mar[ch]*|Apr[il]*|May|Jun[e]?|Jul[y]?|Aug[ust]*|Sep[tember]*|Oct[ober]*|Nov[ember]*|\n",
    "Dec[ember]*)[\\/\\-\\s\\,\\.]+(\\d{2,4})\"\"\""
   ]
  },
  {
   "cell_type": "code",
   "execution_count": 59,
   "metadata": {
    "collapsed": true
   },
   "outputs": [],
   "source": [
    "def part2(df2):\n",
    "    month_map = {\"Jan\": \"01\",\"Feb\": \"02\",\"Mar\": \"03\",\"Apr\": \"04\",\"May\": \"05\",\"Jun\": \"06\",\"Jul\": \"07\",\"Aug\": \"08\",\"Sep\": \"09\",\n",
    "                 \"Oct\": \"10\",\"Nov\": \"11\",\"Dec\": \"12\"}\n",
    "    final_df = part1(df1)\n",
    "    for idx, line in df2.iteritems():\n",
    "        pat4 = r\"\"\"(Jan[uary]*|Feb[ruary]*|Mar[ch]*|Apr[il]*|May|Jun[e]?|Jul[y]?|Aug[ust]*|Sep[tember]*|Oct[ober]*|Nov[ember]*|\n",
    "        Dec[ember]*)[\\/\\-\\s\\,\\.]+(\\d{2,4})\"\"\"\n",
    "        match = re.findall(pat4, line)\n",
    "        if len(match) > 0:\n",
    "            date, month, year = match[0], match[0][0], match[0][1]\n",
    "            day = \"01\"\n",
    "\n",
    "            if len(year) == 2:\n",
    "                year = \"19\" + year\n",
    "\n",
    "            if month.istitle():\n",
    "                m = month[:3]\n",
    "                if m in month_map:\n",
    "                    month = month_map[m]\n",
    "                    \n",
    "            lst = [idx, date, month, day, year]\n",
    "            temp = pd.DataFrame([lst], columns =[\"Index\", \"Date\", \"Month\", \"Day\", \"Year\"])\n",
    "            final_df = final_df.append(temp, ignore_index=True)\n",
    "\n",
    "        elif len(match) == 0:\n",
    "            line = \"\\n\\n\"+line\n",
    "            match = re.findall(pat4, line)\n",
    "            if len(match) > 0:\n",
    "                date, month, year = match[0], match[0][0], match[0][1]\n",
    "                day = \"01\"\n",
    "\n",
    "                if len(year) == 2:\n",
    "                    year = \"19\" + year\n",
    "\n",
    "                if month.istitle():\n",
    "                    m = month[:3]\n",
    "                    if m in month_map:\n",
    "                        month = month_map[m]\n",
    "                    \n",
    "                lst = [idx, date, month.strip(), day, year]\n",
    "                temp = pd.DataFrame([lst], columns =[\"Index\", \"Date\", \"Month\", \"Day\", \"Year\"])\n",
    "                final_df = final_df.append(temp, ignore_index=True)\n",
    "\n",
    "            elif len(match) == 0:\n",
    "                match = re.findall(r\"(Dec[ember]*)[\\/\\-\\s\\,\\.]+(\\d{2,4})\",line)\n",
    "                if len(match) > 0:\n",
    "                    date, month, year = match[0], match[0][0], match[0][1]\n",
    "                    day = \"01\"\n",
    "\n",
    "                    if len(year) == 2:\n",
    "                        year = \"19\" + year\n",
    "\n",
    "                    if month.istitle():\n",
    "                        m = month[:3]\n",
    "                        if m in month_map:\n",
    "                            month = month_map[m]\n",
    "                        \n",
    "                    lst = [idx, date, month, day, year]\n",
    "                    temp = pd.DataFrame([lst], columns =[\"Index\", \"Date\", \"Month\", \"Day\", \"Year\"])\n",
    "                    final_df = final_df.append(temp, ignore_index=True)\n",
    "\n",
    "                else:\n",
    "                    print(line.strip())\n",
    "    final_df = final_df.drop_duplicates().reset_index().drop([\"index\"], axis=1)\n",
    "    return final_df"
   ]
  },
  {
   "cell_type": "code",
   "execution_count": 60,
   "metadata": {
    "collapsed": true
   },
   "outputs": [],
   "source": [
    "pat5 = r\"(\\d{1,2})[\\/](\\d{4})\""
   ]
  },
  {
   "cell_type": "code",
   "execution_count": 61,
   "metadata": {
    "collapsed": true
   },
   "outputs": [],
   "source": [
    "def part3(df3):\n",
    "    final_df = part2(df2)\n",
    "    for idx, line in df3.iteritems():\n",
    "        pat5 = r\"(\\d{1,2})[\\/](\\d{4})\"\n",
    "        match = re.findall(pat5, line)\n",
    "\n",
    "        if len(match) > 0:\n",
    "\n",
    "            date, month, year = match[0], match[0][0], match[0][1]\n",
    "            day = \"01\"\n",
    "            if len(month) == 1:\n",
    "                month = \"0\" + month\n",
    "\n",
    "            lst = [idx, date, month, day, year]\n",
    "            temp = pd.DataFrame([lst], columns =[\"Index\", \"Date\", \"Month\", \"Day\", \"Year\"])\n",
    "            final_df = final_df.append(temp, ignore_index=True)\n",
    "\n",
    "        else:\n",
    "            print(idx,line.strip())\n",
    "            \n",
    "    return final_df"
   ]
  },
  {
   "cell_type": "code",
   "execution_count": 62,
   "metadata": {
    "collapsed": true
   },
   "outputs": [],
   "source": [
    "pat6 = r\"(\\d{4})\""
   ]
  },
  {
   "cell_type": "code",
   "execution_count": 63,
   "metadata": {
    "collapsed": true
   },
   "outputs": [],
   "source": [
    "def part4(df4):\n",
    "    final_df = part3(df3)\n",
    "    for idx, line in df4.iteritems():\n",
    "        pat6 = r\"(\\d{4})\"\n",
    "        match = re.findall(pat6, line)\n",
    "        #print(match)\n",
    "        if len(match) > 0:\n",
    "            year = match[0]\n",
    "            day = \"01\"\n",
    "            month = \"01\"\n",
    "            date = \"01/01/\"+year     \n",
    "            lst = [idx, date, month, day, year]\n",
    "            temp = pd.DataFrame([lst], columns =[\"Index\", \"Date\", \"Month\", \"Day\", \"Year\"])\n",
    "            final_df = final_df.append(temp, ignore_index=True)\n",
    "\n",
    "        else:\n",
    "            #print(idx,line.strip())\n",
    "            pass\n",
    "\n",
    "    return final_df"
   ]
  },
  {
   "cell_type": "code",
   "execution_count": 83,
   "metadata": {
    "collapsed": true
   },
   "outputs": [],
   "source": [
    "def date_sorter():\n",
    "    month_map = {\"Jan\": \"01\",\"Feb\": \"02\",\"Mar\": \"03\",\"Apr\": \"04\",\"May\": \"05\",\"Jun\": \"06\",\"Jul\": \"07\",\"Aug\": \"08\",\"Sep\": \"09\",\n",
    "                 \"Oct\": \"10\",\"Nov\": \"11\",\"Dec\": \"12\", \"January\": \"01\",\"February\":\"02\",\"March\":\"03\",\"April\":\"04\",\"May\":\"05\", \n",
    "                 \"June\":\"06\",\"July\":\"07\",\"August\":\"08\",\"September\":\"09\", \"October\":\"10\",\"November\":\"11\",\"December\":\"12\"}\n",
    "    df1 = df[0:228]\n",
    "    df2 = df[228:343]\n",
    "    df3 = df[343:455]\n",
    "    df4 = df[455:]\n",
    "    #final_df = part1(df1)\n",
    "    #final_df = part2(df2)\n",
    "    #final_df = part3(df3)\n",
    "    final_df = part4(df4)\n",
    "    final_df = final_df.sort_values(by=[\"Year\", \"Month\", \"Day\"])\n",
    "    result = final_df.index\n",
    "    return result# Your answer here"
   ]
  },
  {
   "cell_type": "code",
   "execution_count": 80,
   "metadata": {},
   "outputs": [],
   "source": [
    "#final_df = pd.DataFrame()\n",
    "#a = date_sorter(df)\n",
    "#len(a)"
   ]
  },
  {
   "cell_type": "code",
   "execution_count": 66,
   "metadata": {
    "collapsed": true
   },
   "outputs": [],
   "source": [
    "month_map = {\"Jan\": \"01\",\"Feb\": \"02\",\"Mar\": \"03\",\"Apr\": \"04\",\"May\": \"05\",\"Jun\": \"06\",\"Jul\": \"07\",\"Aug\": \"08\",\"Sep\": \"09\",\n",
    "                 \"Oct\": \"10\",\"Nov\": \"11\",\"Dec\": \"12\", \"January\": \"01\",\"February\":\"02\",\"March\":\"03\",\"April\":\"04\",\"May\":\"05\", \n",
    "                 \"June\":\"06\",\"July\":\"07\",\"August\":\"08\",\"September\":\"09\", \"October\":\"10\",\"November\":\"11\",\"December\":\"12\"}"
   ]
  },
  {
   "cell_type": "code",
   "execution_count": 1,
   "metadata": {
    "collapsed": true
   },
   "outputs": [],
   "source": [
    "months_3l = \"Jan|Feb|Mar|Apr|May|Jun|Jul|Aug|Sep|Oct|Nov|Dec\"\n",
    "months = \"January|February|March|April|May|June|July|August|September|October|November|December\"\n",
    "pattern = r\"(\"+months_3l+\"|\\d{1,2}|\"+months+\")?[\\/\\-\\s\\.]+?(\\d{1,2}|\"+months_3l+\"|\"+months+\")?([a-zA-Z]{2})?[\\/\\-\\,\\.\\s]+?(\\d{1,4})\"\n"
   ]
  },
  {
   "cell_type": "code",
   "execution_count": 23,
   "metadata": {
    "collapsed": true
   },
   "outputs": [],
   "source": [
    "type1 = r\"\\b(\\d{1,2})?\\b[\\/]?\\b(\\d{1,2})?\\b[\\/]\\b(\\d{2,4})\\b\"\n",
    "type2 = r\"\""
   ]
  },
  {
   "cell_type": "code",
   "execution_count": 81,
   "metadata": {},
   "outputs": [],
   "source": [
    "#pattern = r\"(\\d{1,2})?[/-](\\d{1,2})?[/-](\\d{1,4})\"\n",
    "temp =  df.str.extract(pat1, expand=True)"
   ]
  },
  {
   "cell_type": "code",
   "execution_count": 82,
   "metadata": {
    "collapsed": true
   },
   "outputs": [],
   "source": [
    "months = \"Jan[uary]*|Feb[ruary]*|Mar[ch]*|Apr[il]*|May|Jun[e]?|Jul[y]?|Aug[ust]*|Sep[tember]*|Oct[ober]*|Nov[ember]*|Dec[ember]*\""
   ]
  },
  {
   "cell_type": "code",
   "execution_count": null,
   "metadata": {
    "collapsed": true
   },
   "outputs": [],
   "source": []
  }
 ],
 "metadata": {
  "coursera": {
   "course_slug": "python-text-mining",
   "graded_item_id": "LvcWI",
   "launcher_item_id": "krne9",
   "part_id": "Mkp1I"
  },
  "kernelspec": {
   "display_name": "Python 3",
   "language": "python",
   "name": "python3"
  },
  "language_info": {
   "codemirror_mode": {
    "name": "ipython",
    "version": 3
   },
   "file_extension": ".py",
   "mimetype": "text/x-python",
   "name": "python",
   "nbconvert_exporter": "python",
   "pygments_lexer": "ipython3",
   "version": "3.8.2"
  }
 },
 "nbformat": 4,
 "nbformat_minor": 2
}
